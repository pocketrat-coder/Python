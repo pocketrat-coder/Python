{
 "cells": [
  {
   "cell_type": "code",
   "execution_count": 1,
   "id": "84fee58b",
   "metadata": {},
   "outputs": [],
   "source": [
    "import warnings\n",
    "warnings.filterwarnings('ignore')\n",
    "import folium\n",
    "import json\n",
    "import glob\n",
    "import os\n",
    "import pandas as pd\n",
    "import numpy as np"
   ]
  },
  {
   "cell_type": "code",
   "execution_count": null,
   "id": "d9ab1279",
   "metadata": {
    "scrolled": true
   },
   "outputs": [
    {
     "name": "stdout",
     "output_type": "stream",
     "text": [
      "Datas\\소상공인시장진흥공단_상가(상권)정보_경기_202109.csv\n"
     ]
    }
   ],
   "source": [
    "path = 'Datas/'\n",
    "allFiles = glob.glob(os.path.join(path+\"*.csv\"))\n",
    "\n",
    "df = pd.DataFrame()\n",
    "for file in allFiles:\n",
    "\n",
    "    print(file)\n",
    "\n",
    "    temp = pd.read_csv(file, engine='python', encoding='utf-8')\n",
    "    df = pd.concat([df, temp])"
   ]
  },
  {
   "cell_type": "code",
   "execution_count": null,
   "id": "aaf991a4",
   "metadata": {},
   "outputs": [],
   "source": [
    "print('컬럼 항목 수 :', len(df.columns))\n",
    "list(df.columns)"
   ]
  },
  {
   "cell_type": "code",
   "execution_count": null,
   "id": "46dc8a8b",
   "metadata": {},
   "outputs": [],
   "source": [
    "print('='*70)\n",
    "print('상권업종대분류명', set(df['상권업종대분류명']))\n",
    "print('='*70)\n",
    "print('상권업종중분류명', set(df['상권업종중분류명']))\n",
    "print('='*70)"
   ]
  },
  {
   "cell_type": "code",
   "execution_count": null,
   "id": "b517a01c",
   "metadata": {},
   "outputs": [],
   "source": [
    "dataset = df[['상호명','지점명',\n",
    "              '상권업종대분류명', '상권업종중분류명',\n",
    "              '시도명', '시군구명', '행정동명',\n",
    "              '위도', '경도']]\n",
    "\n",
    "dataset.head()"
   ]
  },
  {
   "cell_type": "code",
   "execution_count": null,
   "id": "545c855b",
   "metadata": {
    "scrolled": true
   },
   "outputs": [],
   "source": [
    "df_fastfood = dataset[(dataset['상권업종중분류명']=='패스트푸드')&(dataset['시도명']=='서울특별시')]\n",
    "df_fastfood.index = range(len(df_fastfood))\n",
    "print('서울시 내 패스트푸드 점포 수 :', len(df_fastfood))\n",
    "df_fastfood.head()"
   ]
  },
  {
   "cell_type": "code",
   "execution_count": null,
   "id": "6192751e",
   "metadata": {
    "scrolled": true
   },
   "outputs": [],
   "source": [
    "df_seoul_mac = df_fastfood[df_fastfood['상호명'].str.contains('맥도날드')]\n",
    "df_seoul_mac.index = range(len(df_seoul_mac))\n",
    "print('서울시 내 맥도날드 점포 수 :', len(df_seoul_mac))\n",
    "df_seoul_mac.head()"
   ]
  },
  {
   "cell_type": "code",
   "execution_count": null,
   "id": "a337554e",
   "metadata": {},
   "outputs": [],
   "source": [
    "df_seoul_bk = df_fastfood[df_fastfood['상호명'].str.contains('버거킹')]\n",
    "df_seoul_bk.index = range(len(df_seoul_bk))\n",
    "print('서울시 내 버거킹 점포 수 :', len(df_seoul_bk))\n",
    "df_seoul_bk.head()"
   ]
  },
  {
   "cell_type": "code",
   "execution_count": null,
   "id": "9d492e02",
   "metadata": {
    "scrolled": false
   },
   "outputs": [],
   "source": [
    "mac_gu = df_seoul_mac.groupby('시군구명')['상호명'].count().to_frame().sort_values(by='상호명', ascending=False)\n",
    "mac_gu = mac_gu.reset_index()\n",
    "mac_gu = mac_gu.set_index('시군구명')\n",
    "mac_gu"
   ]
  },
  {
   "cell_type": "code",
   "execution_count": null,
   "id": "2f77486e",
   "metadata": {
    "scrolled": false
   },
   "outputs": [],
   "source": [
    "bk_gu = df_seoul_bk.groupby('시군구명')['상호명'].count().to_frame().sort_values(by='상호명', ascending=False) #내림차순\n",
    "bk_gu = bk_gu.reset_index()\n",
    "bk_gu = bk_gu.set_index('시군구명')\n",
    "bk_gu"
   ]
  },
  {
   "cell_type": "code",
   "execution_count": null,
   "id": "96a2ab40",
   "metadata": {},
   "outputs": [],
   "source": [
    "geo_path = 'Datas/02. skorea_municipalities_geo_simple.json'\n",
    "geo_str = json.load(open(geo_path, encoding='utf-8'))"
   ]
  },
  {
   "cell_type": "code",
   "execution_count": null,
   "id": "0ba4b436",
   "metadata": {
    "scrolled": false
   },
   "outputs": [],
   "source": [
    "# 위치 파라미터 설정\n",
    "loc = [37.5502, 126.982] # 위도(N), 경도(E)\n",
    "data_size = len(df_seoul_mac)\n",
    "\n",
    "# 지도 정의\n",
    "map_mac = folium.Map(location=loc, zoom_start=12)\n",
    "map_mac.choropleth('geo_data'=geo_str,\n",
    "              data = mac_gu['상호명'],\n",
    "              columns=[mac_gu.index, mac_gu['상호명']],\n",
    "              fill_color='YlGnBu',\n",
    "              key_on='feature.id')\n",
    "\n",
    "\n",
    "# 포인트 마커 추가\n",
    "\n",
    "for i in range(data_size):\n",
    "\n",
    "    folium.Marker(list(df_seoul_mac.iloc[i][['위도', '경도']]),\n",
    "                 popup=df_seoul_mac.iloc[i][['지점명']],\n",
    "                 icon=folium.Icon(color='green')).add_to(map_mac)\n",
    "\n",
    "map_mac"
   ]
  },
  {
   "cell_type": "code",
   "execution_count": null,
   "id": "795a5764",
   "metadata": {
    "scrolled": true
   },
   "outputs": [],
   "source": [
    "# 위치 파라미터 설정\n",
    "loc = [37.5502, 126.982] # 위도(N), 경도(E)\n",
    "data2_size = len(df_seoul_bk)\n",
    "\n",
    "# 지도 정의\n",
    "map_bk = folium.Map(location=loc, zoom_start=12)\n",
    "map_bk.choropleth(geo_data=geo_str,\n",
    "              data = bk_gu['상호명'],\n",
    "              columns=[bk_gu.index, bk_gu['상호명']],\n",
    "              fill_color='YlGnBu', #색상정보(바랭이)\n",
    "              key_on='feature.id') #지리정보와 시각화정보의 공통변수로서 'feature.id'\n",
    "\n",
    "\n",
    "# 포인트 마커 추가\n",
    "for i in range(data2_size):\n",
    "\n",
    "    folium.Marker(list(df_seoul_bk.iloc[i][['위도', '경도']]),\n",
    "                 popup=df_seoul_bk.iloc[i][['지점명']],\n",
    "                 icon=folium.Icon(color='red')).add_to(map_bk)\n",
    "\n",
    "map_bk"
   ]
  },
  {
   "cell_type": "code",
   "execution_count": null,
   "id": "cb23c87b",
   "metadata": {},
   "outputs": [],
   "source": [
    "# 위치 파라미터 설정\n",
    "loc = [37.5502, 126.982] # 위도(N), 경도(E)(서울)\n",
    "\n",
    "data_size = len(df_seoul_mac)\n",
    "data2_size = len(df_seoul_bk)\n",
    "\n",
    "# 지도 정의\n",
    "map = folium.Map(location=loc,\n",
    "                 tiles = 'Stamen Toner', #하천과 길로 표시된 지도\n",
    "                 zoom_start=12)\n",
    "\n",
    "# 포인트 마커 추가\n",
    "\n",
    "for i in range(data_size):\n",
    "\n",
    "    folium.Marker(list(df_seoul_mac.iloc[i][['위도', '경도']]),\n",
    "                 popup=df_seoul_mac.iloc[i][['지점명']],\n",
    "                 icon=folium.Icon(color='green')).add_to(map)\n",
    "\n",
    "\n",
    "for i in range(data2_size):\n",
    "\n",
    "    folium.Marker(list(df_seoul_bk.iloc[i][['위도', '경도']]),\n",
    "                 popup=df_seoul_bk.iloc[i][['지점명']],\n",
    "                 icon=folium.Icon(color='red')).add_to(map)\n",
    "\n",
    "\n",
    "map"
   ]
  },
  {
   "cell_type": "code",
   "execution_count": null,
   "id": "64d8f03c",
   "metadata": {},
   "outputs": [],
   "source": [
    "# 위치 파라미터 설정\n",
    "# 강남역 좌표\n",
    "loc = [37.497895, 127.027565] # 위도(N), 경도(E)\n",
    "data_size = len(df_seoul_mac)\n",
    "data2_size = len(df_seoul_bk)\n",
    "\n",
    "# 지도 정의\n",
    "map = folium.Map(location=loc,\n",
    "                 tiles = 'Stamen Toner', # 'OpenStreetMap'\n",
    "                 zoom_start=12)\n",
    "\n",
    "# 포인트 서클 추가\n",
    "\n",
    "for i in range(data_size):\n",
    "\n",
    "    folium.Circle(list(df_seoul_mac.iloc[i][['위도', '경도']]),\n",
    "                  radius = 100,\n",
    "                  popup = df_seoul_mac.iloc[i]['지점명'],\n",
    "                  color = '#2c9147',fill_color = '#2c9147').add_to(map)\n",
    "\n",
    "for i in range(data2_size):\n",
    "\n",
    "    folium.Circle(list(df_seoul_bk.iloc[i][['위도', '경도']]),\n",
    "                  radius = 100,\n",
    "                  popup = df_seoul_bk.iloc[i]['지점명'],\n",
    "                  color = '#91332c',fill_color = '#91332c').add_to(map)\n",
    "\n",
    "map"
   ]
  }
 ],
 "metadata": {
  "kernelspec": {
   "display_name": "Python 3",
   "language": "python",
   "name": "python3"
  },
  "language_info": {
   "codemirror_mode": {
    "name": "ipython",
    "version": 3
   },
   "file_extension": ".py",
   "mimetype": "text/x-python",
   "name": "python",
   "nbconvert_exporter": "python",
   "pygments_lexer": "ipython3",
   "version": "3.6.8"
  }
 },
 "nbformat": 4,
 "nbformat_minor": 5
}
